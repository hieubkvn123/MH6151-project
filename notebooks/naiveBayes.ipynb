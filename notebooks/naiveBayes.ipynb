{
 "cells": [
  {
   "cell_type": "markdown",
   "id": "91d73513",
   "metadata": {},
   "source": [
    "# Import libraries"
   ]
  },
  {
   "cell_type": "code",
   "execution_count": 2,
   "id": "eb33cd0d",
   "metadata": {},
   "outputs": [],
   "source": [
    "# Packages\n",
    "import numpy as np\n",
    "import pandas as pd\n",
    "import matplotlib.pyplot as plt\n",
    "import seaborn as sns"
   ]
  },
  {
   "cell_type": "markdown",
   "id": "a4576c63",
   "metadata": {},
   "source": [
    "# Import data"
   ]
  },
  {
   "cell_type": "code",
   "execution_count": 6,
   "id": "649a18d1",
   "metadata": {},
   "outputs": [
    {
     "data": {
      "text/html": [
       "<div>\n",
       "<style scoped>\n",
       "    .dataframe tbody tr th:only-of-type {\n",
       "        vertical-align: middle;\n",
       "    }\n",
       "\n",
       "    .dataframe tbody tr th {\n",
       "        vertical-align: top;\n",
       "    }\n",
       "\n",
       "    .dataframe thead th {\n",
       "        text-align: right;\n",
       "    }\n",
       "</style>\n",
       "<table border=\"1\" class=\"dataframe\">\n",
       "  <thead>\n",
       "    <tr style=\"text-align: right;\">\n",
       "      <th></th>\n",
       "      <th>Unnamed: 0</th>\n",
       "      <th>age</th>\n",
       "      <th>job</th>\n",
       "      <th>marital</th>\n",
       "      <th>education</th>\n",
       "      <th>default</th>\n",
       "      <th>balance</th>\n",
       "      <th>housing</th>\n",
       "      <th>loan</th>\n",
       "      <th>contact</th>\n",
       "      <th>day</th>\n",
       "      <th>month</th>\n",
       "      <th>campaign</th>\n",
       "      <th>pdays</th>\n",
       "      <th>previous</th>\n",
       "      <th>poutcome</th>\n",
       "      <th>subscription</th>\n",
       "    </tr>\n",
       "  </thead>\n",
       "  <tbody>\n",
       "    <tr>\n",
       "      <th>0</th>\n",
       "      <td>15714</td>\n",
       "      <td>58</td>\n",
       "      <td>admin.</td>\n",
       "      <td>married</td>\n",
       "      <td>secondary</td>\n",
       "      <td>no</td>\n",
       "      <td>1455</td>\n",
       "      <td>yes</td>\n",
       "      <td>no</td>\n",
       "      <td>cellular</td>\n",
       "      <td>21</td>\n",
       "      <td>jul</td>\n",
       "      <td>1</td>\n",
       "      <td>-1</td>\n",
       "      <td>0</td>\n",
       "      <td>unknown</td>\n",
       "      <td>no</td>\n",
       "    </tr>\n",
       "    <tr>\n",
       "      <th>1</th>\n",
       "      <td>27567</td>\n",
       "      <td>46</td>\n",
       "      <td>management</td>\n",
       "      <td>married</td>\n",
       "      <td>secondary</td>\n",
       "      <td>no</td>\n",
       "      <td>149</td>\n",
       "      <td>no</td>\n",
       "      <td>no</td>\n",
       "      <td>cellular</td>\n",
       "      <td>21</td>\n",
       "      <td>nov</td>\n",
       "      <td>2</td>\n",
       "      <td>-1</td>\n",
       "      <td>0</td>\n",
       "      <td>unknown</td>\n",
       "      <td>yes</td>\n",
       "    </tr>\n",
       "    <tr>\n",
       "      <th>2</th>\n",
       "      <td>22371</td>\n",
       "      <td>33</td>\n",
       "      <td>technician</td>\n",
       "      <td>single</td>\n",
       "      <td>tertiary</td>\n",
       "      <td>no</td>\n",
       "      <td>99</td>\n",
       "      <td>no</td>\n",
       "      <td>no</td>\n",
       "      <td>cellular</td>\n",
       "      <td>22</td>\n",
       "      <td>aug</td>\n",
       "      <td>2</td>\n",
       "      <td>-1</td>\n",
       "      <td>0</td>\n",
       "      <td>unknown</td>\n",
       "      <td>no</td>\n",
       "    </tr>\n",
       "    <tr>\n",
       "      <th>3</th>\n",
       "      <td>36742</td>\n",
       "      <td>36</td>\n",
       "      <td>entrepreneur</td>\n",
       "      <td>single</td>\n",
       "      <td>primary</td>\n",
       "      <td>no</td>\n",
       "      <td>5</td>\n",
       "      <td>no</td>\n",
       "      <td>no</td>\n",
       "      <td>cellular</td>\n",
       "      <td>12</td>\n",
       "      <td>may</td>\n",
       "      <td>1</td>\n",
       "      <td>172</td>\n",
       "      <td>3</td>\n",
       "      <td>failure</td>\n",
       "      <td>no</td>\n",
       "    </tr>\n",
       "    <tr>\n",
       "      <th>4</th>\n",
       "      <td>3522</td>\n",
       "      <td>44</td>\n",
       "      <td>blue-collar</td>\n",
       "      <td>married</td>\n",
       "      <td>primary</td>\n",
       "      <td>no</td>\n",
       "      <td>0</td>\n",
       "      <td>yes</td>\n",
       "      <td>no</td>\n",
       "      <td>unknown</td>\n",
       "      <td>15</td>\n",
       "      <td>may</td>\n",
       "      <td>6</td>\n",
       "      <td>-1</td>\n",
       "      <td>0</td>\n",
       "      <td>unknown</td>\n",
       "      <td>no</td>\n",
       "    </tr>\n",
       "  </tbody>\n",
       "</table>\n",
       "</div>"
      ],
      "text/plain": [
       "   Unnamed: 0  age           job  marital  education default  balance housing  \\\n",
       "0       15714   58        admin.  married  secondary      no     1455     yes   \n",
       "1       27567   46    management  married  secondary      no      149      no   \n",
       "2       22371   33    technician   single   tertiary      no       99      no   \n",
       "3       36742   36  entrepreneur   single    primary      no        5      no   \n",
       "4        3522   44   blue-collar  married    primary      no        0     yes   \n",
       "\n",
       "  loan   contact  day month  campaign  pdays  previous poutcome subscription  \n",
       "0   no  cellular   21   jul         1     -1         0  unknown           no  \n",
       "1   no  cellular   21   nov         2     -1         0  unknown          yes  \n",
       "2   no  cellular   22   aug         2     -1         0  unknown           no  \n",
       "3   no  cellular   12   may         1    172         3  failure           no  \n",
       "4   no   unknown   15   may         6     -1         0  unknown           no  "
      ]
     },
     "execution_count": 6,
     "metadata": {},
     "output_type": "execute_result"
    }
   ],
   "source": [
    "df_train = pd.read_csv(\"../data/bank-train.csv\", sep=',')\n",
    "df_test = pd.read_csv(\"../data/bank-test.csv\", sep=',')\n",
    "\n",
    "# Rename last column\n",
    "df_train = df_train.rename(columns={'y' : 'subscription'})\n",
    "df_test = df_test.rename(columns={'y' : 'subscription'})\n",
    "\n",
    "# Drop duration\n",
    "df_train = df_train.drop(columns='duration')\n",
    "df_test = df_test.drop(columns='duration')\n",
    "\n",
    "# Show sample\n",
    "df_train.head(5)\n",
    "df_test.head(5)"
   ]
  },
  {
   "cell_type": "markdown",
   "id": "0d1b1296",
   "metadata": {},
   "source": [
    "# Data preprocessing"
   ]
  },
  {
   "cell_type": "code",
   "execution_count": 7,
   "id": "8db9a5fb",
   "metadata": {},
   "outputs": [],
   "source": [
    "from sklearn.preprocessing import LabelEncoder\n",
    "\n",
    "job_labelenc_train = LabelEncoder()\n",
    "job_labelenc_test = LabelEncoder()\n",
    "\n",
    "marital_labelenc_train = LabelEncoder()\n",
    "marital_labelenc_test = LabelEncoder()\n",
    "\n",
    "contact_labelenc_train = LabelEncoder()\n",
    "contact_labelenc_test = LabelEncoder()\n",
    "\n",
    "poutcome_labelenc_train = LabelEncoder()\n",
    "poutcome_labelenc_test = LabelEncoder()\n",
    "\n",
    "def preproc_education_train(x):\n",
    "    if(x == 'unknown') : return 0\n",
    "    elif(x == 'primary') : return 1\n",
    "    elif(x == 'secondary') : return 2\n",
    "    elif(x == 'tertiary') : return 3\n",
    "\n",
    "def preproc_education_test(x):\n",
    "    if(x == 'unknown') : return 0\n",
    "    elif(x == 'primary') : return 1\n",
    "    elif(x == 'secondary') : return 2\n",
    "    elif(x == 'tertiary') : return 3\n",
    "    \n",
    "def preproc_month_train(x):\n",
    "    if(x == 'jan') : return 1\n",
    "    elif(x == 'feb') : return 2\n",
    "    elif(x == 'mar') : return 3\n",
    "    elif(x == 'apr') : return 4\n",
    "    elif(x == 'may') : return 5\n",
    "    elif(x == 'jun') : return 6\n",
    "    elif(x == 'jul') : return 7\n",
    "    elif(x == 'aug') : return 8\n",
    "    elif(x == 'sep') : return 9\n",
    "    elif(x == 'oct') : return 10\n",
    "    elif(x == 'nov') : return 11\n",
    "    elif(x == 'dec') : return 12\n",
    "    \n",
    "def preproc_month_test(x):\n",
    "    if(x == 'jan') : return 1\n",
    "    elif(x == 'feb') : return 2\n",
    "    elif(x == 'mar') : return 3\n",
    "    elif(x == 'apr') : return 4\n",
    "    elif(x == 'may') : return 5\n",
    "    elif(x == 'jun') : return 6\n",
    "    elif(x == 'jul') : return 7\n",
    "    elif(x == 'aug') : return 8\n",
    "    elif(x == 'sep') : return 9\n",
    "    elif(x == 'oct') : return 10\n",
    "    elif(x == 'nov') : return 11\n",
    "    elif(x == 'dec') : return 12   \n",
    "    \n",
    "def preproc_binary_train(x):\n",
    "    if(x == 'no') : return 0\n",
    "    elif(x == 'yes') : return 1\n",
    "\n",
    "def preproc_binary_test(x):\n",
    "    if(x == 'no') : return 0\n",
    "    elif(x == 'yes') : return 1\n",
    "    "
   ]
  },
  {
   "cell_type": "code",
   "execution_count": 8,
   "id": "71f0982c",
   "metadata": {},
   "outputs": [
    {
     "name": "stdout",
     "output_type": "stream",
     "text": [
      "   Unnamed: 0  age  job  marital  education  default  balance  housing  loan  \\\n",
      "0        1179   42    9        1          2        0      420        1     0   \n",
      "1       18721   35    4        2          2        0     2383        1     0   \n",
      "2       34471   32    0        2          2        0       12        1     0   \n",
      "3       40932   74    5        1          2        0      291        0     0   \n",
      "4        5707   29    8        1          3        0      149        1     0   \n",
      "\n",
      "   contact  day  month  campaign  pdays  previous  poutcome subscription  \n",
      "0        2    8      5         1     -1         0         3           no  \n",
      "1        0   31      7         6     -1         0         3           no  \n",
      "2        0    5      5         1    365         2         0           no  \n",
      "3        0   12      8         1     -1         0         3           no  \n",
      "4        2   26      5         4     -1         0         3           no  \n",
      "   Unnamed: 0  age  job  marital  education  default  balance  housing  loan  \\\n",
      "0       15714   58    0        1          2        0     1455        1     0   \n",
      "1       27567   46    4        1          2        0      149        0     0   \n",
      "2       22371   33    9        2          3        0       99        0     0   \n",
      "3       36742   36    2        2          1        0        5        0     0   \n",
      "4        3522   44    1        1          1        0        0        1     0   \n",
      "\n",
      "   contact  day  month  campaign  pdays  previous  poutcome subscription  \n",
      "0        0   21      7         1     -1         0         3           no  \n",
      "1        0   21     11         2     -1         0         3          yes  \n",
      "2        0   22      8         2     -1         0         3           no  \n",
      "3        0   12      5         1    172         3         0           no  \n",
      "4        2   15      5         6     -1         0         3           no  \n"
     ]
    }
   ],
   "source": [
    "# ALl preprocessing steps\n",
    "# For training set\n",
    "df_train['job'] = job_labelenc_train.fit_transform(df_train['job'])\n",
    "df_train['marital'] = marital_labelenc_train.fit_transform(df_train['marital'])\n",
    "df_train['contact'] = contact_labelenc_train.fit_transform(df_train['contact'])\n",
    "df_train['poutcome'] = poutcome_labelenc_train.fit_transform(df_train['poutcome'])\n",
    "df_train['education'] = df_train['education'].apply(preproc_education_train)\n",
    "df_train['month'] = df_train['month'].apply(preproc_month_train)\n",
    "df_train['default'] = df_train['default'].apply(preproc_binary_train)\n",
    "df_train['housing'] = df_train['housing'].apply(preproc_binary_train)\n",
    "df_train['loan'] = df_train['loan'].apply(preproc_binary_train)\n",
    "\n",
    "print(df_train.head(5))\n",
    "\n",
    "# For testing set\n",
    "df_test['job'] = job_labelenc_test.fit_transform(df_test['job'])\n",
    "df_test['marital'] = marital_labelenc_test.fit_transform(df_test['marital'])\n",
    "df_test['contact'] = contact_labelenc_test.fit_transform(df_test['contact'])\n",
    "df_test['poutcome'] = poutcome_labelenc_train.fit_transform(df_test['poutcome'])\n",
    "df_test['education'] = df_test['education'].apply(preproc_education_test)\n",
    "df_test['month'] = df_test['month'].apply(preproc_month_test)\n",
    "df_test['default'] = df_test['default'].apply(preproc_binary_test)\n",
    "df_test['housing'] = df_test['housing'].apply(preproc_binary_test)\n",
    "df_test['loan'] = df_test['loan'].apply(preproc_binary_test)\n",
    "\n",
    "print(df_test.head(5))"
   ]
  },
  {
   "cell_type": "markdown",
   "id": "95a28913",
   "metadata": {},
   "source": [
    "# Extract features and labels"
   ]
  },
  {
   "cell_type": "code",
   "execution_count": 9,
   "id": "b9185194",
   "metadata": {},
   "outputs": [
    {
     "name": "stdout",
     "output_type": "stream",
     "text": [
      "X_train shape: (36168, 16)\n",
      "y_train shape: (36168,)\n",
      "X_test shape: (9043, 16)\n",
      "y_test shape: (9043,)\n",
      "Series([], dtype: object)\n"
     ]
    }
   ],
   "source": [
    "# Extract features and labels from datafram\n",
    "X_train = df_train.drop(\"subscription\", axis=1)  \n",
    "y_train = df_train[\"subscription\"]  \n",
    "\n",
    "X_test = df_test.drop(\"subscription\", axis=1)  \n",
    "y_test = df_test[\"subscription\"]  \n",
    "\n",
    "print(\"X_train shape:\", X_train.shape)\n",
    "print(\"y_train shape:\", y_train.shape)\n",
    "print(\"X_test shape:\", X_test.shape)\n",
    "print(\"y_test shape:\", y_test.shape)\n",
    "\n",
    "# Check the data type of each feature\n",
    "feature_data_types = X_train.dtypes\n",
    "\n",
    "# Print features whose data type is string\n",
    "string_features = feature_data_types[feature_data_types == 'object']\n",
    "print(string_features)"
   ]
  },
  {
   "cell_type": "markdown",
   "id": "6915986c",
   "metadata": {},
   "source": [
    "# Build Naive Bayes Model"
   ]
  },
  {
   "cell_type": "code",
   "execution_count": 10,
   "id": "ea6f7038",
   "metadata": {},
   "outputs": [
    {
     "name": "stdout",
     "output_type": "stream",
     "text": [
      "              precision    recall  f1-score   support\n",
      "\n",
      "          no       0.92      0.85      0.88      7953\n",
      "         yes       0.28      0.43      0.34      1090\n",
      "\n",
      "    accuracy                           0.80      9043\n",
      "   macro avg       0.60      0.64      0.61      9043\n",
      "weighted avg       0.84      0.80      0.82      9043\n",
      "\n",
      "[[6762 1191]\n",
      " [ 618  472]]\n"
     ]
    },
    {
     "data": {
      "text/plain": [
       "0.2380724697383525"
      ]
     },
     "execution_count": 10,
     "metadata": {},
     "output_type": "execute_result"
    },
    {
     "data": {
      "image/png": "[encoded data removed]",
      "text/plain": [
       "<Figure size 640x480 with 1 Axes>"
      ]
     },
     "metadata": {},
     "output_type": "display_data"
    }
   ],
   "source": [
    "## Naive Bayes\n",
    "from sklearn.naive_bayes import GaussianNB\n",
    "\n",
    "classifier = GaussianNB()\n",
    "classifier.fit(X_train, y_train)\n",
    "\n",
    "# Predicting Test Set\n",
    "y_pred = classifier.predict(X_test)\n",
    "\n",
    "# View classification report\n",
    "from sklearn.metrics import classification_report\n",
    "print(classification_report(y_test, y_pred, target_names=['no' ,'yes']))\n",
    "\n",
    "# Calculate confusion matrix\n",
    "from sklearn.metrics import confusion_matrix, ConfusionMatrixDisplay\n",
    "conf_matrix = confusion_matrix (y_test, y_pred)\n",
    "print (conf_matrix)\n",
    "sns.heatmap(conf_matrix, annot=True, fmt='d', cmap='Blues', cbar=False)\n",
    "\n",
    "# Calculate MCC\n",
    "from sklearn.metrics import matthews_corrcoef\n",
    "matthews_corrcoef(y_test, y_pred)\n"
   ]
  },
  {
   "cell_type": "markdown",
   "id": "67d582f2",
   "metadata": {},
   "source": [
    "# k Fold Cross Validation "
   ]
  },
  {
   "cell_type": "code",
   "execution_count": 11,
   "id": "33049aec",
   "metadata": {},
   "outputs": [
    {
     "name": "stdout",
     "output_type": "stream",
     "text": [
      "[0.80135471 0.81310478 0.79941941 0.79787087 0.79717959]\n"
     ]
    }
   ],
   "source": [
    "# Applying 5-Fold Cross Validation \n",
    "from sklearn.model_selection import cross_val_score\n",
    "cv_score = cross_val_score(estimator = classifier,\n",
    "                             X = X_train,\n",
    "                             y = y_train, cv = 5)\n",
    "print(cv_score)"
   ]
  },
  {
   "cell_type": "markdown",
   "id": "3f7de1ff",
   "metadata": {},
   "source": [
    "# Performance Evaluation"
   ]
  },
  {
   "cell_type": "code",
   "execution_count": 12,
   "id": "7a5d879d",
   "metadata": {},
   "outputs": [
    {
     "data": {
      "image/png": "[encoded data removed]",
      "text/plain": [
       "<Figure size 800x600 with 1 Axes>"
      ]
     },
     "metadata": {},
     "output_type": "display_data"
    }
   ],
   "source": [
    "import matplotlib.pyplot as plt\n",
    "from sklearn.metrics import precision_recall_curve\n",
    "\n",
    "from sklearn.preprocessing import LabelEncoder\n",
    "\n",
    "# Encoding\n",
    "label_encoder = LabelEncoder()\n",
    "y_test_binary = label_encoder.fit_transform(y_test)\n",
    "\n",
    "# Use the model to make predictions\n",
    "y_scores = classifier.predict_proba(X_test)[:, 1]  # 获取正类别的概率分数\n",
    "\n",
    "# Calculate precision, recall, thresholds\n",
    "precision, recall, thresholds = precision_recall_curve(y_test_binary, y_scores)\n",
    "\n",
    "# Plot Curve\n",
    "plt.figure(figsize=(8, 6))\n",
    "plt.plot(recall, precision, color='firebrick', lw=2, label='Precision-Recall Curve')\n",
    "plt.xlabel('Recall')\n",
    "plt.ylabel('Precision')\n",
    "plt.title('Precision-Recall Curve')\n",
    "plt.grid()\n",
    "plt.legend(loc='best')\n",
    "plt.show()\n",
    "\n"
   ]
  },
  {
   "cell_type": "code",
   "execution_count": 13,
   "id": "d3ee8db8",
   "metadata": {},
   "outputs": [
    {
     "name": "stdout",
     "output_type": "stream",
     "text": [
      "0.6416363567149665\n"
     ]
    }
   ],
   "source": [
    "# ROC & AUC\n",
    "\n",
    "from sklearn.metrics import roc_curve, roc_auc_score\n",
    "\n",
    "# Encoding\n",
    "y_pred_binary = label_encoder.transform(y_pred)\n",
    "\n",
    "# Calculate ROC curve\n",
    "fpr, tpr, _ = roc_curve(y_test_binary, y_pred_binary, pos_label=1)\n",
    "\n",
    "# Calculate AUC\n",
    "auc_score = roc_auc_score(y_test_binary, y_pred_binary)\n",
    "\n",
    "print(auc_score)\n"
   ]
  },
  {
   "cell_type": "code",
   "execution_count": 14,
   "id": "e2205980",
   "metadata": {},
   "outputs": [
    {
     "data": {
      "image/png": "[encoded data removed]",
      "text/plain": [
       "<Figure size 800x550 with 1 Axes>"
      ]
     },
     "metadata": {},
     "output_type": "display_data"
    }
   ],
   "source": [
    "plt.style.use('seaborn')\n",
    "\n",
    "# plot roc curves\n",
    "plt.plot(fpr, tpr, linestyle='--',color='orange', label='Naive Bayes')\n",
    "# title\n",
    "plt.title('ROC curve')\n",
    "# x label\n",
    "plt.xlabel('False Positive Rate')\n",
    "# y label\n",
    "plt.ylabel('True Positive rate')\n",
    "\n",
    "plt.legend(loc='best')\n",
    "plt.savefig('ROC',dpi=300)\n",
    "plt.show();"
   ]
  },
  {
   "cell_type": "code",
   "execution_count": null,
   "id": "4ab6ec03",
   "metadata": {},
   "outputs": [],
   "source": []
  }
 ],
 "metadata": {
  "kernelspec": {
   "display_name": "Python 3 (ipykernel)",
   "language": "python",
   "name": "python3"
  },
  "language_info": {
   "codemirror_mode": {
    "name": "ipython",
    "version": 3
   },
   "file_extension": ".py",
   "mimetype": "text/x-python",
   "name": "python",
   "nbconvert_exporter": "python",
   "pygments_lexer": "ipython3",
   "version": "3.9.12"
  }
 },
 "nbformat": 4,
 "nbformat_minor": 5
}
